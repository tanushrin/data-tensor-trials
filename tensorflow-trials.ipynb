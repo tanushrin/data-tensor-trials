{
 "cells": [
  {
   "cell_type": "markdown",
   "metadata": {},
   "source": [
    "## The Tensorflow Trials"
   ]
  },
  {
   "cell_type": "markdown",
   "metadata": {},
   "source": [
    "For much of the past week, you've been using tensors with your Deep Learning models. Over the course of today's challenges, you'll be manipulating tensors extensively and working with some unconventional model architectures. \n",
    "\n",
    "\n",
    "In this warm up, you'll be introduced to some new methods. \n",
    "\n",
    "All the methods here are going to make tackling challenges later in the day 100x easier, so if you do get stuck later on, make sure you come back here to see how you achieved the right answers. "
   ]
  },
  {
   "cell_type": "code",
   "execution_count": 1,
   "metadata": {},
   "outputs": [
    {
     "name": "stderr",
     "output_type": "stream",
     "text": [
      "2023-11-17 10:27:57.384998: I tensorflow/core/platform/cpu_feature_guard.cc:182] This TensorFlow binary is optimized to use available CPU instructions in performance-critical operations.\n",
      "To enable the following instructions: AVX2 FMA, in other operations, rebuild TensorFlow with the appropriate compiler flags.\n",
      "/Users/tanushrinayak/.pyenv/versions/3.10.6/envs/lewagon/lib/python3.10/site-packages/scipy/__init__.py:146: UserWarning: A NumPy version >=1.17.3 and <1.25.0 is required for this version of SciPy (detected version 1.26.2\n",
      "  warnings.warn(f\"A NumPy version >={np_minversion} and <{np_maxversion}\"\n"
     ]
    }
   ],
   "source": [
    "import tensorflow as tf\n"
   ]
  },
  {
   "cell_type": "markdown",
   "metadata": {},
   "source": [
    "A) Use `tf.ones` to create a tensor `a` filled with ones of shape (3,3)."
   ]
  },
  {
   "cell_type": "code",
   "execution_count": 5,
   "metadata": {},
   "outputs": [
    {
     "name": "stdout",
     "output_type": "stream",
     "text": [
      "tf.Tensor(\n",
      "[[1. 1. 1.]\n",
      " [1. 1. 1.]\n",
      " [1. 1. 1.]], shape=(3, 3), dtype=float32)\n"
     ]
    }
   ],
   "source": [
    "# Use tf.ones to create a 3x3 tensor full of ones.\n",
    "\n",
    "a = tf.ones([3, 3])\n",
    "\n",
    "print(a)\n"
   ]
  },
  {
   "cell_type": "markdown",
   "metadata": {},
   "source": [
    "B) Use tf.expand_dims to make `a` an object of shape (1,3,3) called `b`."
   ]
  },
  {
   "cell_type": "code",
   "execution_count": 9,
   "metadata": {},
   "outputs": [
    {
     "name": "stdout",
     "output_type": "stream",
     "text": [
      "tf.Tensor(\n",
      "[[[1. 1. 1.]\n",
      "  [1. 1. 1.]\n",
      "  [1. 1. 1.]]], shape=(1, 3, 3), dtype=float32)\n"
     ]
    }
   ],
   "source": [
    "# Use tf.expand_dims to add a dimension to your tensor and\n",
    "# store it in b.\n",
    "\n",
    "b = tf.expand_dims(a, 0)\n",
    "\n",
    "print(b)\n"
   ]
  },
  {
   "cell_type": "markdown",
   "metadata": {},
   "source": [
    "C) Create a tensor `c` filled with zeroes of size (9,1)"
   ]
  },
  {
   "cell_type": "code",
   "execution_count": 7,
   "metadata": {},
   "outputs": [
    {
     "name": "stdout",
     "output_type": "stream",
     "text": [
      "tf.Tensor(\n",
      "[[0.]\n",
      " [0.]\n",
      " [0.]\n",
      " [0.]\n",
      " [0.]\n",
      " [0.]\n",
      " [0.]\n",
      " [0.]\n",
      " [0.]], shape=(9, 1), dtype=float32)\n"
     ]
    }
   ],
   "source": [
    "# Create a tensor c with zeroes of size (9,1)\n",
    "c = tf.zeros([9, 1])\n",
    "\n",
    "print(c)\n"
   ]
  },
  {
   "cell_type": "markdown",
   "metadata": {},
   "source": [
    "D) Reshape `c` to be of shape (1, 3, 3). Name it `d`."
   ]
  },
  {
   "cell_type": "code",
   "execution_count": 8,
   "metadata": {},
   "outputs": [
    {
     "name": "stdout",
     "output_type": "stream",
     "text": [
      "tf.Tensor(\n",
      "[[[0. 0. 0.]\n",
      "  [0. 0. 0.]\n",
      "  [0. 0. 0.]]], shape=(1, 3, 3), dtype=float32)\n"
     ]
    }
   ],
   "source": [
    "# Reshape c to be of shape (1,3,3)\n",
    "\n",
    "d = tf.reshape(c, [1, 3, 3])\n",
    "\n",
    "print(d)\n"
   ]
  },
  {
   "cell_type": "markdown",
   "metadata": {},
   "source": [
    "E) Use `tf.matmul` to matrix multiply `b` and `d` with each other and now assign the tensor to `e`. "
   ]
  },
  {
   "cell_type": "code",
   "execution_count": 10,
   "metadata": {},
   "outputs": [
    {
     "name": "stdout",
     "output_type": "stream",
     "text": [
      "tf.Tensor(\n",
      "[[[0. 0. 0.]\n",
      "  [0. 0. 0.]\n",
      "  [0. 0. 0.]]], shape=(1, 3, 3), dtype=float32)\n"
     ]
    }
   ],
   "source": [
    "# Multiply b and d together to get e\n",
    "e = tf.matmul(b, d)\n",
    "\n",
    "print(e)\n"
   ]
  },
  {
   "cell_type": "markdown",
   "metadata": {},
   "source": [
    "F) Below is a `numpy` array. Convert it to a tensor named `array_tensor`. Then use `tf.cast` to ensure it oof dtype `float` not `int`. Assign the result to `f`."
   ]
  },
  {
   "cell_type": "code",
   "execution_count": 11,
   "metadata": {},
   "outputs": [],
   "source": [
    "import numpy as np\n"
   ]
  },
  {
   "cell_type": "code",
   "execution_count": 12,
   "metadata": {},
   "outputs": [],
   "source": [
    "array = np.array([[\n",
    "    [1,2,3],\n",
    "    [1,2,3],\n",
    "    [4,5,6],\n",
    "    [7,8,9]\n",
    "]])\n"
   ]
  },
  {
   "cell_type": "code",
   "execution_count": 13,
   "metadata": {},
   "outputs": [
    {
     "name": "stdout",
     "output_type": "stream",
     "text": [
      "tf.Tensor(\n",
      "[[[1. 2. 3.]\n",
      "  [1. 2. 3.]\n",
      "  [4. 5. 6.]\n",
      "  [7. 8. 9.]]], shape=(1, 4, 3), dtype=float32)\n"
     ]
    }
   ],
   "source": [
    "# Convert the numpy array into a tensor using tf.cast\n",
    "f = tf.cast(array, tf.float32)\n",
    "\n",
    "print(f)\n"
   ]
  },
  {
   "cell_type": "markdown",
   "metadata": {},
   "source": [
    "G) Select the values in the __last column__ of `f` and save this to `g`. To be clear, `g` should have shape (4,) and contain the values `3,3,6,9`. "
   ]
  },
  {
   "cell_type": "code",
   "execution_count": 45,
   "metadata": {},
   "outputs": [
    {
     "name": "stdout",
     "output_type": "stream",
     "text": [
      "tf.Tensor([3. 3. 6. 9.], shape=(4,), dtype=float32)\n",
      "(4,)\n"
     ]
    }
   ],
   "source": [
    "# Take the last column of f and store it in g with shape (4,)\n",
    "\n",
    "g = f[:,:,2]\n",
    "\n",
    "# Reshape g to be of shape (4,)\n",
    "\n",
    "g = tf.reshape(g, [4, ])\n",
    "\n",
    "print(g)\n",
    "print(g.shape)\n"
   ]
  },
  {
   "cell_type": "markdown",
   "metadata": {},
   "source": [
    "H) Expand the dimensions of g so that it's of shape (4,1). Assign this to `h`."
   ]
  },
  {
   "cell_type": "code",
   "execution_count": 15,
   "metadata": {},
   "outputs": [
    {
     "name": "stdout",
     "output_type": "stream",
     "text": [
      "tf.Tensor(\n",
      "[[3.]\n",
      " [3.]\n",
      " [6.]\n",
      " [9.]], shape=(4, 1), dtype=float32)\n"
     ]
    }
   ],
   "source": [
    "# Reshape g into a shape (4,1)\n",
    "\n",
    "h = tf.reshape(g, [4, 1])\n",
    "\n",
    "print(h)\n"
   ]
  },
  {
   "cell_type": "markdown",
   "metadata": {},
   "source": [
    "H) Multiply e with f, using `tf.matmul` with the optional `transpose_b` argument (`e` must come first in your positional arguments, then `f`). Assign this to `h`."
   ]
  },
  {
   "cell_type": "code",
   "execution_count": 17,
   "metadata": {},
   "outputs": [
    {
     "name": "stdout",
     "output_type": "stream",
     "text": [
      "tf.Tensor(\n",
      "[[[0. 0. 0. 0.]\n",
      "  [0. 0. 0. 0.]\n",
      "  [0. 0. 0. 0.]]], shape=(1, 3, 4), dtype=float32)\n"
     ]
    }
   ],
   "source": [
    "# Multiply e with f using tf.matmul with the optional\n",
    "# argument transpose_b set to True.\n",
    "\n",
    "h = tf.matmul(e, f, transpose_b=True)\n",
    "\n",
    "print(h)\n"
   ]
  },
  {
   "cell_type": "markdown",
   "metadata": {},
   "source": [
    "I) Create a `(10,10)` tensor filled with ones. Then use `tf.linaalg.band_part()` to mask out the upper triangle of the matrix (i.e. the upper triangle should all be 0s). Assign to `i`."
   ]
  },
  {
   "cell_type": "code",
   "execution_count": 19,
   "metadata": {},
   "outputs": [
    {
     "name": "stdout",
     "output_type": "stream",
     "text": [
      "tf.Tensor(\n",
      "[[1. 0. 0. 0. 0. 0. 0. 0. 0. 0.]\n",
      " [1. 1. 0. 0. 0. 0. 0. 0. 0. 0.]\n",
      " [1. 1. 1. 0. 0. 0. 0. 0. 0. 0.]\n",
      " [1. 1. 1. 1. 0. 0. 0. 0. 0. 0.]\n",
      " [1. 1. 1. 1. 1. 0. 0. 0. 0. 0.]\n",
      " [1. 1. 1. 1. 1. 1. 0. 0. 0. 0.]\n",
      " [1. 1. 1. 1. 1. 1. 1. 0. 0. 0.]\n",
      " [1. 1. 1. 1. 1. 1. 1. 1. 0. 0.]\n",
      " [1. 1. 1. 1. 1. 1. 1. 1. 1. 0.]\n",
      " [1. 1. 1. 1. 1. 1. 1. 1. 1. 1.]], shape=(10, 10), dtype=float32)\n"
     ]
    }
   ],
   "source": [
    "# Create a (10, 10) tensor of 1s and\n",
    "# use tf.linalg.band_part() to mask out the upper triangle.\n",
    "\n",
    "i = tf.ones([10, 10])\n",
    "\n",
    "i = tf.linalg.band_part(i, -1, 0)\n",
    "\n",
    "print(i)\n"
   ]
  },
  {
   "cell_type": "markdown",
   "metadata": {},
   "source": [
    "J) Take the `number_list` below and make it a tensor. Assign it to `j`."
   ]
  },
  {
   "cell_type": "code",
   "execution_count": 20,
   "metadata": {},
   "outputs": [],
   "source": [
    "number_list = [1,2,3,4,8]\n"
   ]
  },
  {
   "cell_type": "code",
   "execution_count": 21,
   "metadata": {},
   "outputs": [
    {
     "name": "stdout",
     "output_type": "stream",
     "text": [
      "tf.Tensor([1 2 3 4 8], shape=(5,), dtype=int32)\n"
     ]
    }
   ],
   "source": [
    "# Make number_list into a tensor using tf.convert_to_tensor\n",
    "\n",
    "j = tf.convert_to_tensor(number_list)\n",
    "\n",
    "print(j)\n"
   ]
  },
  {
   "cell_type": "markdown",
   "metadata": {},
   "source": [
    "K) Use `tf.expand_dims` to make `j` into a tensor of shape (1,5). Assign to `k`."
   ]
  },
  {
   "cell_type": "code",
   "execution_count": 22,
   "metadata": {},
   "outputs": [
    {
     "name": "stdout",
     "output_type": "stream",
     "text": [
      "tf.Tensor([[1 2 3 4 8]], shape=(1, 5), dtype=int32)\n"
     ]
    }
   ],
   "source": [
    "# Use tf.expand_dims to make j into a tensor of shape (1,5)\n",
    "\n",
    "k = tf.expand_dims(j, 0)\n",
    "\n",
    "print(k)\n"
   ]
  },
  {
   "cell_type": "markdown",
   "metadata": {},
   "source": [
    "L) Use `tf.tile` to repeat `k` 50 times, with an eventual shape of `(50,5)`. Assign to `l`."
   ]
  },
  {
   "cell_type": "code",
   "execution_count": 23,
   "metadata": {},
   "outputs": [
    {
     "name": "stdout",
     "output_type": "stream",
     "text": [
      "tf.Tensor(\n",
      "[[1 2 3 4 8]\n",
      " [1 2 3 4 8]\n",
      " [1 2 3 4 8]\n",
      " [1 2 3 4 8]\n",
      " [1 2 3 4 8]\n",
      " [1 2 3 4 8]\n",
      " [1 2 3 4 8]\n",
      " [1 2 3 4 8]\n",
      " [1 2 3 4 8]\n",
      " [1 2 3 4 8]\n",
      " [1 2 3 4 8]\n",
      " [1 2 3 4 8]\n",
      " [1 2 3 4 8]\n",
      " [1 2 3 4 8]\n",
      " [1 2 3 4 8]\n",
      " [1 2 3 4 8]\n",
      " [1 2 3 4 8]\n",
      " [1 2 3 4 8]\n",
      " [1 2 3 4 8]\n",
      " [1 2 3 4 8]\n",
      " [1 2 3 4 8]\n",
      " [1 2 3 4 8]\n",
      " [1 2 3 4 8]\n",
      " [1 2 3 4 8]\n",
      " [1 2 3 4 8]\n",
      " [1 2 3 4 8]\n",
      " [1 2 3 4 8]\n",
      " [1 2 3 4 8]\n",
      " [1 2 3 4 8]\n",
      " [1 2 3 4 8]\n",
      " [1 2 3 4 8]\n",
      " [1 2 3 4 8]\n",
      " [1 2 3 4 8]\n",
      " [1 2 3 4 8]\n",
      " [1 2 3 4 8]\n",
      " [1 2 3 4 8]\n",
      " [1 2 3 4 8]\n",
      " [1 2 3 4 8]\n",
      " [1 2 3 4 8]\n",
      " [1 2 3 4 8]\n",
      " [1 2 3 4 8]\n",
      " [1 2 3 4 8]\n",
      " [1 2 3 4 8]\n",
      " [1 2 3 4 8]\n",
      " [1 2 3 4 8]\n",
      " [1 2 3 4 8]\n",
      " [1 2 3 4 8]\n",
      " [1 2 3 4 8]\n",
      " [1 2 3 4 8]\n",
      " [1 2 3 4 8]], shape=(50, 5), dtype=int32)\n"
     ]
    }
   ],
   "source": [
    "# Use tf.tile to repeat k 50 times\n",
    "\n",
    "l = tf.tile(k, [50, 1])\n",
    "\n",
    "print(l)\n"
   ]
  },
  {
   "cell_type": "markdown",
   "metadata": {},
   "source": [
    "M) Use a simple Boolean statement to create a tensor containing `True` and `False` values for where `l` does not equal 3. Assign to `m`"
   ]
  },
  {
   "cell_type": "code",
   "execution_count": 24,
   "metadata": {},
   "outputs": [
    {
     "name": "stdout",
     "output_type": "stream",
     "text": [
      "tf.Tensor(\n",
      "[[ True  True False  True  True]\n",
      " [ True  True False  True  True]\n",
      " [ True  True False  True  True]\n",
      " [ True  True False  True  True]\n",
      " [ True  True False  True  True]\n",
      " [ True  True False  True  True]\n",
      " [ True  True False  True  True]\n",
      " [ True  True False  True  True]\n",
      " [ True  True False  True  True]\n",
      " [ True  True False  True  True]\n",
      " [ True  True False  True  True]\n",
      " [ True  True False  True  True]\n",
      " [ True  True False  True  True]\n",
      " [ True  True False  True  True]\n",
      " [ True  True False  True  True]\n",
      " [ True  True False  True  True]\n",
      " [ True  True False  True  True]\n",
      " [ True  True False  True  True]\n",
      " [ True  True False  True  True]\n",
      " [ True  True False  True  True]\n",
      " [ True  True False  True  True]\n",
      " [ True  True False  True  True]\n",
      " [ True  True False  True  True]\n",
      " [ True  True False  True  True]\n",
      " [ True  True False  True  True]\n",
      " [ True  True False  True  True]\n",
      " [ True  True False  True  True]\n",
      " [ True  True False  True  True]\n",
      " [ True  True False  True  True]\n",
      " [ True  True False  True  True]\n",
      " [ True  True False  True  True]\n",
      " [ True  True False  True  True]\n",
      " [ True  True False  True  True]\n",
      " [ True  True False  True  True]\n",
      " [ True  True False  True  True]\n",
      " [ True  True False  True  True]\n",
      " [ True  True False  True  True]\n",
      " [ True  True False  True  True]\n",
      " [ True  True False  True  True]\n",
      " [ True  True False  True  True]\n",
      " [ True  True False  True  True]\n",
      " [ True  True False  True  True]\n",
      " [ True  True False  True  True]\n",
      " [ True  True False  True  True]\n",
      " [ True  True False  True  True]\n",
      " [ True  True False  True  True]\n",
      " [ True  True False  True  True]\n",
      " [ True  True False  True  True]\n",
      " [ True  True False  True  True]\n",
      " [ True  True False  True  True]], shape=(50, 5), dtype=bool)\n"
     ]
    }
   ],
   "source": [
    "# Use a simple Boolean statement to create a tensor\n",
    "# containing True and False values, where l is not equal to 3\n",
    "m = l != 3\n",
    "\n",
    "print(m)\n"
   ]
  },
  {
   "cell_type": "markdown",
   "metadata": {},
   "source": [
    "N) Divide every value in you variable `l` (read as \"L\") by 3. Assign to `n`."
   ]
  },
  {
   "cell_type": "code",
   "execution_count": 25,
   "metadata": {},
   "outputs": [
    {
     "name": "stdout",
     "output_type": "stream",
     "text": [
      "tf.Tensor(\n",
      "[[0.33333333 0.66666667 1.         1.33333333 2.66666667]\n",
      " [0.33333333 0.66666667 1.         1.33333333 2.66666667]\n",
      " [0.33333333 0.66666667 1.         1.33333333 2.66666667]\n",
      " [0.33333333 0.66666667 1.         1.33333333 2.66666667]\n",
      " [0.33333333 0.66666667 1.         1.33333333 2.66666667]\n",
      " [0.33333333 0.66666667 1.         1.33333333 2.66666667]\n",
      " [0.33333333 0.66666667 1.         1.33333333 2.66666667]\n",
      " [0.33333333 0.66666667 1.         1.33333333 2.66666667]\n",
      " [0.33333333 0.66666667 1.         1.33333333 2.66666667]\n",
      " [0.33333333 0.66666667 1.         1.33333333 2.66666667]\n",
      " [0.33333333 0.66666667 1.         1.33333333 2.66666667]\n",
      " [0.33333333 0.66666667 1.         1.33333333 2.66666667]\n",
      " [0.33333333 0.66666667 1.         1.33333333 2.66666667]\n",
      " [0.33333333 0.66666667 1.         1.33333333 2.66666667]\n",
      " [0.33333333 0.66666667 1.         1.33333333 2.66666667]\n",
      " [0.33333333 0.66666667 1.         1.33333333 2.66666667]\n",
      " [0.33333333 0.66666667 1.         1.33333333 2.66666667]\n",
      " [0.33333333 0.66666667 1.         1.33333333 2.66666667]\n",
      " [0.33333333 0.66666667 1.         1.33333333 2.66666667]\n",
      " [0.33333333 0.66666667 1.         1.33333333 2.66666667]\n",
      " [0.33333333 0.66666667 1.         1.33333333 2.66666667]\n",
      " [0.33333333 0.66666667 1.         1.33333333 2.66666667]\n",
      " [0.33333333 0.66666667 1.         1.33333333 2.66666667]\n",
      " [0.33333333 0.66666667 1.         1.33333333 2.66666667]\n",
      " [0.33333333 0.66666667 1.         1.33333333 2.66666667]\n",
      " [0.33333333 0.66666667 1.         1.33333333 2.66666667]\n",
      " [0.33333333 0.66666667 1.         1.33333333 2.66666667]\n",
      " [0.33333333 0.66666667 1.         1.33333333 2.66666667]\n",
      " [0.33333333 0.66666667 1.         1.33333333 2.66666667]\n",
      " [0.33333333 0.66666667 1.         1.33333333 2.66666667]\n",
      " [0.33333333 0.66666667 1.         1.33333333 2.66666667]\n",
      " [0.33333333 0.66666667 1.         1.33333333 2.66666667]\n",
      " [0.33333333 0.66666667 1.         1.33333333 2.66666667]\n",
      " [0.33333333 0.66666667 1.         1.33333333 2.66666667]\n",
      " [0.33333333 0.66666667 1.         1.33333333 2.66666667]\n",
      " [0.33333333 0.66666667 1.         1.33333333 2.66666667]\n",
      " [0.33333333 0.66666667 1.         1.33333333 2.66666667]\n",
      " [0.33333333 0.66666667 1.         1.33333333 2.66666667]\n",
      " [0.33333333 0.66666667 1.         1.33333333 2.66666667]\n",
      " [0.33333333 0.66666667 1.         1.33333333 2.66666667]\n",
      " [0.33333333 0.66666667 1.         1.33333333 2.66666667]\n",
      " [0.33333333 0.66666667 1.         1.33333333 2.66666667]\n",
      " [0.33333333 0.66666667 1.         1.33333333 2.66666667]\n",
      " [0.33333333 0.66666667 1.         1.33333333 2.66666667]\n",
      " [0.33333333 0.66666667 1.         1.33333333 2.66666667]\n",
      " [0.33333333 0.66666667 1.         1.33333333 2.66666667]\n",
      " [0.33333333 0.66666667 1.         1.33333333 2.66666667]\n",
      " [0.33333333 0.66666667 1.         1.33333333 2.66666667]\n",
      " [0.33333333 0.66666667 1.         1.33333333 2.66666667]\n",
      " [0.33333333 0.66666667 1.         1.33333333 2.66666667]], shape=(50, 5), dtype=float64)\n"
     ]
    }
   ],
   "source": [
    "# Divide every value in l by 3 and store it in n\n",
    "\n",
    "n = tf.divide(l, 3)\n",
    "\n",
    "print(n)\n"
   ]
  },
  {
   "cell_type": "markdown",
   "metadata": {},
   "source": [
    "O) Use `tf.concat()` to take the list of two tensors below of shape (5,5) and (5,5) each and turn them into a final tensor of shape (10,5). Assign to `o`. Think carefully about the concation axis."
   ]
  },
  {
   "cell_type": "code",
   "execution_count": 26,
   "metadata": {},
   "outputs": [],
   "source": [
    "tensor_list = [tf.ones((5,5)), tf.ones((5,5))]\n"
   ]
  },
  {
   "cell_type": "code",
   "execution_count": 27,
   "metadata": {},
   "outputs": [
    {
     "name": "stdout",
     "output_type": "stream",
     "text": [
      "tf.Tensor(\n",
      "[[1. 1. 1. 1. 1.]\n",
      " [1. 1. 1. 1. 1.]\n",
      " [1. 1. 1. 1. 1.]\n",
      " [1. 1. 1. 1. 1.]\n",
      " [1. 1. 1. 1. 1.]\n",
      " [1. 1. 1. 1. 1.]\n",
      " [1. 1. 1. 1. 1.]\n",
      " [1. 1. 1. 1. 1.]\n",
      " [1. 1. 1. 1. 1.]\n",
      " [1. 1. 1. 1. 1.]], shape=(10, 5), dtype=float32)\n"
     ]
    }
   ],
   "source": [
    "# Use tf.concat to concatenate tensor_list along the first dimension\n",
    "\n",
    "o = tf.concat(tensor_list, axis=0)\n",
    "\n",
    "print(o)\n"
   ]
  },
  {
   "cell_type": "markdown",
   "metadata": {},
   "source": [
    "### Check your answers"
   ]
  },
  {
   "cell_type": "code",
   "execution_count": 46,
   "metadata": {},
   "outputs": [
    {
     "name": "stdout",
     "output_type": "stream",
     "text": [
      "\n",
      "\u001b[1m============================= test session starts ==============================\u001b[0m\n",
      "platform darwin -- Python 3.10.6, pytest-7.1.3, pluggy-1.0.0 -- /Users/tanushrinayak/.pyenv/versions/3.10.6/envs/lewagon/bin/python3\n",
      "cachedir: .pytest_cache\n",
      "rootdir: /Users/tanushrinayak/code/tanushrin/06-Deep-Learning/05-Transformers/data-tensor-trials/tests\n",
      "plugins: asyncio-0.19.0, typeguard-2.13.3, anyio-3.6.2\n",
      "asyncio: mode=strict\n",
      "\u001b[1mcollecting ... \u001b[0mcollected 15 items\n",
      "\n",
      "test_tensors.py::TestTensors::test_a \u001b[32mPASSED\u001b[0m\u001b[33m                              [  6%]\u001b[0m\n",
      "test_tensors.py::TestTensors::test_b \u001b[32mPASSED\u001b[0m\u001b[33m                              [ 13%]\u001b[0m\n",
      "test_tensors.py::TestTensors::test_c \u001b[32mPASSED\u001b[0m\u001b[33m                              [ 20%]\u001b[0m\n",
      "test_tensors.py::TestTensors::test_d_shape \u001b[32mPASSED\u001b[0m\u001b[33m                        [ 26%]\u001b[0m\n",
      "test_tensors.py::TestTensors::test_e \u001b[32mPASSED\u001b[0m\u001b[33m                              [ 33%]\u001b[0m\n",
      "test_tensors.py::TestTensors::test_f \u001b[32mPASSED\u001b[0m\u001b[33m                              [ 40%]\u001b[0m\n",
      "test_tensors.py::TestTensors::test_g \u001b[32mPASSED\u001b[0m\u001b[33m                              [ 46%]\u001b[0m\n",
      "test_tensors.py::TestTensors::test_h \u001b[32mPASSED\u001b[0m\u001b[33m                              [ 53%]\u001b[0m\n",
      "test_tensors.py::TestTensors::test_i \u001b[32mPASSED\u001b[0m\u001b[33m                              [ 60%]\u001b[0m\n",
      "test_tensors.py::TestTensors::test_j \u001b[32mPASSED\u001b[0m\u001b[33m                              [ 66%]\u001b[0m\n",
      "test_tensors.py::TestTensors::test_k \u001b[32mPASSED\u001b[0m\u001b[33m                              [ 73%]\u001b[0m\n",
      "test_tensors.py::TestTensors::test_l \u001b[32mPASSED\u001b[0m\u001b[33m                              [ 80%]\u001b[0m\n",
      "test_tensors.py::TestTensors::test_m \u001b[32mPASSED\u001b[0m\u001b[33m                              [ 86%]\u001b[0m\n",
      "test_tensors.py::TestTensors::test_n \u001b[32mPASSED\u001b[0m\u001b[33m                              [ 93%]\u001b[0m\n",
      "test_tensors.py::TestTensors::test_o_shape \u001b[32mPASSED\u001b[0m\u001b[33m                        [100%]\u001b[0m\n",
      "\n",
      "\u001b[33m=============================== warnings summary ===============================\u001b[0m\n",
      "../../../../../../.pyenv/versions/3.10.6/envs/lewagon/lib/python3.10/site-packages/tensorflow/python/framework/dtypes.py:35\n",
      "  /Users/tanushrinayak/.pyenv/versions/3.10.6/envs/lewagon/lib/python3.10/site-packages/tensorflow/python/framework/dtypes.py:35: DeprecationWarning: ml_dtypes.float8_e4m3b11 is deprecated. Use ml_dtypes.float8_e4m3b11fnuz\n",
      "    from tensorflow.tsl.python.lib.core import pywrap_ml_dtypes\n",
      "\n",
      "../../../../../../.pyenv/versions/3.10.6/envs/lewagon/lib/python3.10/site-packages/scipy/__init__.py:146\n",
      "  /Users/tanushrinayak/.pyenv/versions/3.10.6/envs/lewagon/lib/python3.10/site-packages/scipy/__init__.py:146: UserWarning: A NumPy version >=1.17.3 and <1.25.0 is required for this version of SciPy (detected version 1.26.2\n",
      "    warnings.warn(f\"A NumPy version >={np_minversion} and <{np_maxversion}\"\n",
      "\n",
      "-- Docs: https://docs.pytest.org/en/stable/how-to/capture-warnings.html\n",
      "\u001b[33m======================== \u001b[32m15 passed\u001b[0m, \u001b[33m\u001b[1m2 warnings\u001b[0m\u001b[33m in 5.48s\u001b[0m\u001b[33m ========================\u001b[0m\n",
      "\n",
      "\n",
      "💯 You can commit your code:\n",
      "\n",
      "\u001b[1;32mgit\u001b[39m add tests/tensors.pickle\n",
      "\n",
      "\u001b[32mgit\u001b[39m commit -m \u001b[33m'Completed tensors step'\u001b[39m\n",
      "\n",
      "\u001b[32mgit\u001b[39m push origin master\n",
      "\n"
     ]
    }
   ],
   "source": [
    "from nbresult import ChallengeResult\n",
    "\n",
    "result = ChallengeResult('tensors',\n",
    "                            a = a,\n",
    "                            b = b,\n",
    "                            c = c,\n",
    "                            d_shape = d.shape,\n",
    "                            e = e,\n",
    "                            f = f,\n",
    "                            g = g,\n",
    "                            h = h,\n",
    "                            i = i,\n",
    "                            j = j,\n",
    "                            k = k,\n",
    "                            l = l,\n",
    "                            m = m,\n",
    "                            n = n,\n",
    "                            o_shape = o.shape\n",
    ")\n",
    "\n",
    "result.write()\n",
    "print(result.check())\n"
   ]
  },
  {
   "cell_type": "markdown",
   "metadata": {},
   "source": [
    "### Great work 🔥\n",
    "\n",
    "Now it's time to get stuck into some modelling!"
   ]
  }
 ],
 "metadata": {
  "kernelspec": {
   "display_name": "Python 3",
   "language": "python",
   "name": "python3"
  },
  "language_info": {
   "codemirror_mode": {
    "name": "ipython",
    "version": 3
   },
   "file_extension": ".py",
   "mimetype": "text/x-python",
   "name": "python",
   "nbconvert_exporter": "python",
   "pygments_lexer": "ipython3",
   "version": "3.10.6"
  }
 },
 "nbformat": 4,
 "nbformat_minor": 5
}
